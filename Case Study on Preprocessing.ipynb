{
 "cells": [
  {
   "cell_type": "markdown",
   "id": "bb56d2e4-6e42-4ea6-811b-b9c582438904",
   "metadata": {},
   "source": [
    "# Dataset Overview"
   ]
  },
  {
   "cell_type": "code",
   "execution_count": 2,
   "id": "2df4b368-987a-4d25-b6ba-da4b14ef4706",
   "metadata": {},
   "outputs": [
    {
     "name": "stdout",
     "output_type": "stream",
     "text": [
      "<class 'pandas.core.frame.DataFrame'>\n",
      "RangeIndex: 21613 entries, 0 to 21612\n",
      "Data columns (total 21 columns):\n",
      " #   Column                                     Non-Null Count  Dtype  \n",
      "---  ------                                     --------------  -----  \n",
      " 0   ID                                         21613 non-null  int64  \n",
      " 1   Date House was Sold                        21613 non-null  object \n",
      " 2   Sale Price                                 21609 non-null  float64\n",
      " 3   No of Bedrooms                             21613 non-null  int64  \n",
      " 4   No of Bathrooms                            21609 non-null  float64\n",
      " 5   Flat Area (in Sqft)                        21604 non-null  float64\n",
      " 6   Lot Area (in Sqft)                         21604 non-null  float64\n",
      " 7   No of Floors                               21613 non-null  float64\n",
      " 8   Waterfront View                            21613 non-null  object \n",
      " 9   No of Times Visited                        2124 non-null   object \n",
      " 10  Condition of the House                     21613 non-null  object \n",
      " 11  Overall Grade                              21613 non-null  int64  \n",
      " 12  Area of the House from Basement (in Sqft)  21610 non-null  float64\n",
      " 13  Basement Area (in Sqft)                    21613 non-null  int64  \n",
      " 14  Age of House (in Years)                    21613 non-null  int64  \n",
      " 15  Renovated Year                             21613 non-null  int64  \n",
      " 16  Zipcode                                    21612 non-null  float64\n",
      " 17  Latitude                                   21612 non-null  float64\n",
      " 18  Longitude                                  21612 non-null  float64\n",
      " 19  Living Area after Renovation (in Sqft)     21612 non-null  float64\n",
      " 20  Lot Area after Renovation (in Sqft)        21613 non-null  int64  \n",
      "dtypes: float64(10), int64(7), object(4)\n",
      "memory usage: 3.5+ MB\n",
      "None\n",
      "                 ID    Sale Price  No of Bedrooms  No of Bathrooms  \\\n",
      "count  2.161300e+04  2.160900e+04    21613.000000     21609.000000   \n",
      "mean   4.580302e+09  5.401984e+05        3.370842         2.114732   \n",
      "std    2.876566e+09  3.673890e+05        0.930062         0.770138   \n",
      "min    1.000102e+06  7.500000e+04        0.000000         0.000000   \n",
      "25%    2.123049e+09  3.219500e+05        3.000000         1.750000   \n",
      "50%    3.904930e+09  4.500000e+05        3.000000         2.250000   \n",
      "75%    7.308900e+09  6.450000e+05        4.000000         2.500000   \n",
      "max    9.900000e+09  7.700000e+06       33.000000         8.000000   \n",
      "\n",
      "       Flat Area (in Sqft)  Lot Area (in Sqft)  No of Floors  Overall Grade  \\\n",
      "count         21604.000000        2.160400e+04  21613.000000   21613.000000   \n",
      "mean           2079.931772        1.510776e+04      1.494309       7.623467   \n",
      "std             918.487597        4.142827e+04      0.539989       1.105439   \n",
      "min             290.000000        5.200000e+02      1.000000       1.000000   \n",
      "25%            1429.250000        5.040000e+03      1.000000       7.000000   \n",
      "50%            1910.000000        7.617500e+03      1.500000       7.000000   \n",
      "75%            2550.000000        1.068825e+04      2.000000       8.000000   \n",
      "max           13540.000000        1.651359e+06      3.500000      10.000000   \n",
      "\n",
      "       Area of the House from Basement (in Sqft)  Basement Area (in Sqft)  \\\n",
      "count                               21610.000000             21613.000000   \n",
      "mean                                 1788.344193               291.509045   \n",
      "std                                   827.982604               442.575043   \n",
      "min                                   290.000000                 0.000000   \n",
      "25%                                  1190.000000                 0.000000   \n",
      "50%                                  1560.000000                 0.000000   \n",
      "75%                                  2210.000000               560.000000   \n",
      "max                                  9410.000000              4820.000000   \n",
      "\n",
      "       Age of House (in Years)  Renovated Year       Zipcode      Latitude  \\\n",
      "count             21613.000000    21613.000000  21612.000000  21612.000000   \n",
      "mean                 46.994864       84.402258  98077.937766     47.560048   \n",
      "std                  29.373411      401.679240     53.505425      0.138565   \n",
      "min                   3.000000        0.000000  98001.000000     47.155900   \n",
      "25%                  21.000000        0.000000  98033.000000     47.470975   \n",
      "50%                  43.000000        0.000000  98065.000000     47.571800   \n",
      "75%                  67.000000        0.000000  98118.000000     47.678000   \n",
      "max                 118.000000     2015.000000  98199.000000     47.777600   \n",
      "\n",
      "          Longitude  Living Area after Renovation (in Sqft)  \\\n",
      "count  21612.000000                            21612.000000   \n",
      "mean    -122.213892                             1986.538914   \n",
      "std        0.140830                              685.404255   \n",
      "min     -122.519000                              399.000000   \n",
      "25%     -122.328000                             1490.000000   \n",
      "50%     -122.230000                             1840.000000   \n",
      "75%     -122.125000                             2360.000000   \n",
      "max     -121.315000                             6210.000000   \n",
      "\n",
      "       Lot Area after Renovation (in Sqft)  \n",
      "count                         21613.000000  \n",
      "mean                          12768.455652  \n",
      "std                           27304.179631  \n",
      "min                             651.000000  \n",
      "25%                            5100.000000  \n",
      "50%                            7620.000000  \n",
      "75%                           10083.000000  \n",
      "max                          871200.000000  \n"
     ]
    }
   ],
   "source": [
    "import pandas as pd \n",
    "\n",
    "file_path = r\"D:\\Project\\House_Pricing.csv\"\n",
    "df = pd.read_csv(file_path)\n",
    "\n",
    "print (df.info())\n",
    "print (df.describe())"
   ]
  },
  {
   "cell_type": "markdown",
   "id": "62868af8-4882-4660-92c3-1d9a9c7cbb43",
   "metadata": {},
   "source": [
    "# Duplicate Removal"
   ]
  },
  {
   "cell_type": "code",
   "execution_count": 3,
   "id": "1df172aa-694a-4cf9-8775-92c1a36c5694",
   "metadata": {},
   "outputs": [
    {
     "name": "stdout",
     "output_type": "stream",
     "text": [
      "Duplicate rows before removal: 0\n",
      "Duplicate rows after removal: 0\n"
     ]
    }
   ],
   "source": [
    "duplicate_rows = df.duplicated().sum()\n",
    "print(f\"Duplicate rows before removal: {duplicate_rows}\")\n",
    "\n",
    "df = df.drop_duplicates()\n",
    "print(f\"Duplicate rows after removal: {df.duplicated().sum()}\")"
   ]
  },
  {
   "cell_type": "code",
   "execution_count": 4,
   "id": "8846dd08-aaf9-45ce-8fe3-cf9740d53736",
   "metadata": {},
   "outputs": [
    {
     "name": "stdout",
     "output_type": "stream",
     "text": [
      "Duplicate columns after removal: 0\n",
      "Duplicate columns after removal: 0\n"
     ]
    }
   ],
   "source": [
    "df_T = df.T\n",
    "\n",
    "duplicate_columns = df_T.duplicated().sum()\n",
    "print (f\"Duplicate columns after removal: {duplicate_columns}\")\n",
    "\n",
    "df = df.loc[:, ~df_T.duplicated()]\n",
    "print (f\"Duplicate columns after removal: {df_T.duplicated().sum()}\")"
   ]
  },
  {
   "cell_type": "markdown",
   "id": "901a13e7-f847-40ee-819a-0f53342d3bf2",
   "metadata": {},
   "source": [
    "# Handling Missing Values"
   ]
  },
  {
   "cell_type": "code",
   "execution_count": 5,
   "id": "4f233414-0af3-4bde-8594-206101e9d15b",
   "metadata": {},
   "outputs": [
    {
     "name": "stdout",
     "output_type": "stream",
     "text": [
      "missing values per column:\n",
      " ID                                               0\n",
      "Date House was Sold                              0\n",
      "Sale Price                                       4\n",
      "No of Bedrooms                                   0\n",
      "No of Bathrooms                                  4\n",
      "Flat Area (in Sqft)                              9\n",
      "Lot Area (in Sqft)                               9\n",
      "No of Floors                                     0\n",
      "Waterfront View                                  0\n",
      "No of Times Visited                          19489\n",
      "Condition of the House                           0\n",
      "Overall Grade                                    0\n",
      "Area of the House from Basement (in Sqft)        3\n",
      "Basement Area (in Sqft)                          0\n",
      "Age of House (in Years)                          0\n",
      "Renovated Year                                   0\n",
      "Zipcode                                          1\n",
      "Latitude                                         1\n",
      "Longitude                                        1\n",
      "Living Area after Renovation (in Sqft)           1\n",
      "Lot Area after Renovation (in Sqft)              0\n",
      "dtype: int64\n"
     ]
    }
   ],
   "source": [
    "missing_values = df.isnull().sum()\n",
    "print(\"missing values per column:\\n\", missing_values)"
   ]
  },
  {
   "cell_type": "code",
   "execution_count": 6,
   "id": "eafd9e00-e8fe-45e6-912e-e9d1d8d0dec4",
   "metadata": {},
   "outputs": [],
   "source": [
    "num_cols = df.select_dtypes(include = [\"number\"])\n",
    "df[num_cols.columns] = num_cols.apply(lambda col: col.fillna(col.mean()), axis = 0)"
   ]
  },
  {
   "cell_type": "code",
   "execution_count": 8,
   "id": "f3fe61f7-8e96-4e56-ae09-8e5a7827d3fc",
   "metadata": {},
   "outputs": [],
   "source": [
    "cat_cols = df.select_dtypes(include = [\"object\"])\n",
    "df[cat_cols.columns] = cat_cols.apply(lambda col: col.fillna(col.mode()[0]), axis = 0)"
   ]
  },
  {
   "cell_type": "code",
   "execution_count": 9,
   "id": "712386fb-da55-44ea-b9ed-1cbaca53090f",
   "metadata": {},
   "outputs": [
    {
     "name": "stdout",
     "output_type": "stream",
     "text": [
      "missing values after imputation:\n",
      " ID                                           0\n",
      "Date House was Sold                          0\n",
      "Sale Price                                   0\n",
      "No of Bedrooms                               0\n",
      "No of Bathrooms                              0\n",
      "Flat Area (in Sqft)                          0\n",
      "Lot Area (in Sqft)                           0\n",
      "No of Floors                                 0\n",
      "Waterfront View                              0\n",
      "No of Times Visited                          0\n",
      "Condition of the House                       0\n",
      "Overall Grade                                0\n",
      "Area of the House from Basement (in Sqft)    0\n",
      "Basement Area (in Sqft)                      0\n",
      "Age of House (in Years)                      0\n",
      "Renovated Year                               0\n",
      "Zipcode                                      0\n",
      "Latitude                                     0\n",
      "Longitude                                    0\n",
      "Living Area after Renovation (in Sqft)       0\n",
      "Lot Area after Renovation (in Sqft)          0\n",
      "dtype: int64\n"
     ]
    }
   ],
   "source": [
    "print (\"missing values after imputation:\\n\", df.isnull().sum())"
   ]
  },
  {
   "cell_type": "markdown",
   "id": "d8c5c011-4a02-43cb-aa28-781acc18e299",
   "metadata": {},
   "source": [
    "# Scaling Numerical Variables"
   ]
  },
  {
   "cell_type": "code",
   "execution_count": 25,
   "id": "6c31b974-8a59-44d7-912d-ce27c9732046",
   "metadata": {},
   "outputs": [
    {
     "name": "stdout",
     "output_type": "stream",
     "text": [
      "Numerical Columns to be Scaled: ['ID', 'No of Bedrooms', 'No of Bathrooms', 'Flat Area (in Sqft)', 'Lot Area (in Sqft)', 'No of Floors', 'Overall Grade', 'Area of the House from Basement (in Sqft)', 'Basement Area (in Sqft)', 'Age of House (in Years)', 'Renovated Year', 'Zipcode', 'Latitude', 'Longitude', 'Living Area after Renovation (in Sqft)', 'Lot Area after Renovation (in Sqft)']\n"
     ]
    }
   ],
   "source": [
    "from sklearn.preprocessing import MinMaxScaler, StandardScaler\n",
    "\n",
    "\n",
    "num_cols = df.select_dtypes(include=[\"number\"]).columns.tolist()\n",
    "\n",
    "\n",
    "target_col = \"Sale Price\"  \n",
    "if target_col in num_cols:\n",
    "    num_cols.remove(target_col)\n",
    "\n",
    "print(\"Numerical Columns to be Scaled:\", num_cols)\n"
   ]
  },
  {
   "cell_type": "code",
   "execution_count": 26,
   "id": "01a18b3f-1d30-4f1e-93f7-a69d5b35581f",
   "metadata": {},
   "outputs": [],
   "source": [
    "scaler = MinMaxScaler()\n",
    "df[num_cols] = scaler.fit_transform(df[num_cols])\n"
   ]
  },
  {
   "cell_type": "code",
   "execution_count": 27,
   "id": "1fde05e5-ee20-411e-abb7-2098dbbfda4c",
   "metadata": {},
   "outputs": [],
   "source": [
    "scaler = StandardScaler()\n",
    "df[num_cols] = scaler.fit_transform(df[num_cols])\n"
   ]
  },
  {
   "cell_type": "code",
   "execution_count": 29,
   "id": "f8b8fb04-1f9c-4ef5-9b3f-8913fcdc8d8c",
   "metadata": {},
   "outputs": [
    {
     "name": "stdout",
     "output_type": "stream",
     "text": [
      "                 ID  No of Bedrooms  No of Bathrooms  Flat Area (in Sqft)  \\\n",
      "count  2.161300e+04    2.161300e+04     2.161300e+04         2.161300e+04   \n",
      "mean  -1.624060e-16    1.972543e-16    -5.891327e-16         3.682080e-17   \n",
      "std    1.000023e+00    1.000023e+00     1.000023e+00         1.000023e+00   \n",
      "min   -1.591970e+00   -3.624404e+00    -2.746230e+00        -1.949233e+00   \n",
      "25%   -8.542511e-01   -3.987371e-01    -4.736480e-01        -7.077746e-01   \n",
      "50%   -2.347893e-01   -3.987371e-01     1.756611e-01        -1.850554e-01   \n",
      "75%    9.485833e-01    6.764851e-01     5.003157e-01         5.119035e-01   \n",
      "max    1.849366e+00    3.185793e+01     7.642716e+00         1.247999e+01   \n",
      "\n",
      "       Lot Area (in Sqft)  No of Floors  Overall Grade  \\\n",
      "count        2.161300e+04  2.161300e+04   2.161300e+04   \n",
      "mean         1.315028e-17 -3.156068e-17   1.315028e-16   \n",
      "std          1.000023e+00  1.000023e+00   1.000023e+00   \n",
      "min         -3.522024e-01 -9.154270e-01  -5.991845e+00   \n",
      "25%         -2.430729e-01 -9.154270e-01  -5.640127e-01   \n",
      "50%         -1.807821e-01  1.053939e-02  -5.640127e-01   \n",
      "75%         -1.063954e-01  9.365058e-01   3.406260e-01   \n",
      "max          3.950515e+01  3.714405e+00   2.149903e+00   \n",
      "\n",
      "       Area of the House from Basement (in Sqft)  Basement Area (in Sqft)  \\\n",
      "count                               2.161300e+04             2.161300e+04   \n",
      "mean                                5.260114e-17             1.025722e-16   \n",
      "std                                 1.000023e+00             1.000023e+00   \n",
      "min                                -1.809800e+00            -6.586810e-01   \n",
      "25%                                -7.227200e-01            -6.586810e-01   \n",
      "50%                                -2.758093e-01            -6.586810e-01   \n",
      "75%                                 5.093040e-01             6.066704e-01   \n",
      "max                                 9.205944e+00             1.023238e+01   \n",
      "\n",
      "       Age of House (in Years)  Renovated Year       Zipcode      Latitude  \\\n",
      "count             2.161300e+04    2.161300e+04  2.161300e+04  2.161300e+04   \n",
      "mean              1.472832e-16   -6.838148e-17 -1.587897e-16  2.625126e-16   \n",
      "std               1.000023e+00    1.000023e+00  1.000023e+00  1.000023e+00   \n",
      "min              -1.497813e+00   -2.101284e-01 -1.438010e+00 -2.916799e+00   \n",
      "25%              -8.849999e-01   -2.101284e-01 -8.399119e-01 -6.426710e-01   \n",
      "50%              -1.360059e-01   -2.101284e-01 -2.418141e-01  8.481895e-02   \n",
      "75%               6.810785e-01   -2.101284e-01  7.487855e-01  8.512816e-01   \n",
      "max               2.417383e+00    4.806428e+00  2.262721e+00  1.570111e+00   \n",
      "\n",
      "          Longitude  Living Area after Renovation (in Sqft)  \\\n",
      "count  2.161300e+04                            2.161300e+04   \n",
      "mean  -2.235548e-17                           -8.679188e-17   \n",
      "std    1.000023e+00                            1.000023e+00   \n",
      "min   -2.166605e+00                           -2.316315e+00   \n",
      "25%   -8.102955e-01                           -7.244803e-01   \n",
      "50%   -1.143878e-01                           -2.138091e-01   \n",
      "75%    6.312277e-01                            5.449023e-01   \n",
      "max    6.383118e+00                            6.162285e+00   \n",
      "\n",
      "       Lot Area after Renovation (in Sqft)  \n",
      "count                         2.161300e+04  \n",
      "mean                          3.682080e-17  \n",
      "std                           1.000023e+00  \n",
      "min                          -4.438052e-01  \n",
      "25%                          -2.808593e-01  \n",
      "50%                          -1.885636e-01  \n",
      "75%                          -9.835556e-02  \n",
      "max                           3.144029e+01  \n"
     ]
    }
   ],
   "source": [
    "print(df[num_cols].describe())  \n"
   ]
  },
  {
   "cell_type": "markdown",
   "id": "de7caafa-394a-4ba7-bfd5-cb49a8f7a49f",
   "metadata": {},
   "source": [
    "# Encoding Categorical Variables"
   ]
  },
  {
   "cell_type": "code",
   "execution_count": 34,
   "id": "74533262-0e4c-42ad-89b1-bf48498efddb",
   "metadata": {},
   "outputs": [
    {
     "name": "stdout",
     "output_type": "stream",
     "text": [
      "Categorical Columns: []\n"
     ]
    }
   ],
   "source": [
    "from sklearn.preprocessing import OneHotEncoder, LabelEncoder\n",
    "\n",
    "\n",
    "cat_cols = df.select_dtypes(include=[\"object\"]).columns.tolist()\n",
    "print(\"Categorical Columns:\", cat_cols)"
   ]
  },
  {
   "cell_type": "code",
   "execution_count": 35,
   "id": "038adb20-a08b-466b-ab58-9768dc7bc1a5",
   "metadata": {},
   "outputs": [],
   "source": [
    "df = pd.get_dummies(df, columns=cat_cols, drop_first=True) "
   ]
  },
  {
   "cell_type": "code",
   "execution_count": 36,
   "id": "ce7ec4d7-6b17-424a-8019-0cc311fc3958",
   "metadata": {},
   "outputs": [],
   "source": [
    "ordinal_col = \"Condition\"\n",
    "if ordinal_col in cat_cols:\n",
    "    le = LabelEncoder()\n",
    "    df[ordinal_col] = le.fit_transform(df[ordinal_col])"
   ]
  },
  {
   "cell_type": "code",
   "execution_count": 37,
   "id": "33058047-ccd5-4138-a2a2-9d038b43fe13",
   "metadata": {},
   "outputs": [
    {
     "name": "stdout",
     "output_type": "stream",
     "text": [
      "<class 'pandas.core.frame.DataFrame'>\n",
      "RangeIndex: 21613 entries, 0 to 21612\n",
      "Data columns (total 37 columns):\n",
      " #   Column                                     Non-Null Count  Dtype  \n",
      "---  ------                                     --------------  -----  \n",
      " 0   ID                                         21613 non-null  float64\n",
      " 1   Sale Price                                 21613 non-null  float64\n",
      " 2   No of Bedrooms                             21613 non-null  float64\n",
      " 3   No of Bathrooms                            21613 non-null  float64\n",
      " 4   Flat Area (in Sqft)                        21613 non-null  float64\n",
      " 5   Lot Area (in Sqft)                         21613 non-null  float64\n",
      " 6   No of Floors                               21613 non-null  float64\n",
      " 7   Overall Grade                              21613 non-null  float64\n",
      " 8   Area of the House from Basement (in Sqft)  21613 non-null  float64\n",
      " 9   Basement Area (in Sqft)                    21613 non-null  float64\n",
      " 10  Age of House (in Years)                    21613 non-null  float64\n",
      " 11  Renovated Year                             21613 non-null  float64\n",
      " 12  Zipcode                                    21613 non-null  float64\n",
      " 13  Latitude                                   21613 non-null  float64\n",
      " 14  Longitude                                  21613 non-null  float64\n",
      " 15  Living Area after Renovation (in Sqft)     21613 non-null  float64\n",
      " 16  Lot Area after Renovation (in Sqft)        21613 non-null  float64\n",
      " 17  Date House was Sold_14 December 2017       21613 non-null  bool   \n",
      " 18  Date House was Sold_14 July 2017           21613 non-null  bool   \n",
      " 19  Date House was Sold_14 June 2017           21613 non-null  bool   \n",
      " 20  Date House was Sold_14 May 2017            21613 non-null  bool   \n",
      " 21  Date House was Sold_14 November 2017       21613 non-null  bool   \n",
      " 22  Date House was Sold_14 October 2017        21613 non-null  bool   \n",
      " 23  Date House was Sold_14 September 2017      21613 non-null  bool   \n",
      " 24  Date House was Sold_15 April 2016          21613 non-null  bool   \n",
      " 25  Date House was Sold_15 February 2016       21613 non-null  bool   \n",
      " 26  Date House was Sold_15 January 2016        21613 non-null  bool   \n",
      " 27  Date House was Sold_15 March 2016          21613 non-null  bool   \n",
      " 28  Date House was Sold_15 May 2016            21613 non-null  bool   \n",
      " 29  Waterfront View_Yes                        21613 non-null  bool   \n",
      " 30  No of Times Visited_Once                   21613 non-null  bool   \n",
      " 31  No of Times Visited_Thrice                 21613 non-null  bool   \n",
      " 32  No of Times Visited_Twice                  21613 non-null  bool   \n",
      " 33  Condition of the House_Excellent           21613 non-null  bool   \n",
      " 34  Condition of the House_Fair                21613 non-null  bool   \n",
      " 35  Condition of the House_Good                21613 non-null  bool   \n",
      " 36  Condition of the House_Okay                21613 non-null  bool   \n",
      "dtypes: bool(20), float64(17)\n",
      "memory usage: 3.2 MB\n",
      "None\n"
     ]
    }
   ],
   "source": [
    "print(df.info()) "
   ]
  },
  {
   "cell_type": "code",
   "execution_count": 38,
   "id": "277c410a-8f37-4860-9c0a-ef21dd472f33",
   "metadata": {},
   "outputs": [
    {
     "name": "stdout",
     "output_type": "stream",
     "text": [
      "Numerical Columns for Outlier Analysis: ['ID', 'No of Bedrooms', 'No of Bathrooms', 'Flat Area (in Sqft)', 'Lot Area (in Sqft)', 'No of Floors', 'Overall Grade', 'Area of the House from Basement (in Sqft)', 'Basement Area (in Sqft)', 'Age of House (in Years)', 'Renovated Year', 'Zipcode', 'Latitude', 'Longitude', 'Living Area after Renovation (in Sqft)', 'Lot Area after Renovation (in Sqft)']\n"
     ]
    }
   ],
   "source": [
    "num_cols = df.select_dtypes(include=[\"number\"]).columns.tolist()\n",
    "\n",
    "target_col = \"Sale Price\"  \n",
    "if target_col in num_cols:\n",
    "    num_cols.remove(target_col)\n",
    "\n",
    "print(\"Numerical Columns for Outlier Analysis:\", num_cols)"
   ]
  },
  {
   "cell_type": "markdown",
   "id": "cb56cdfc-8029-4b53-a85a-9c6749d21f03",
   "metadata": {},
   "source": [
    "# Outlier Removal"
   ]
  },
  {
   "cell_type": "code",
   "execution_count": 39,
   "id": "1d1fb0d9-3efe-4984-9eac-d0d094882f30",
   "metadata": {},
   "outputs": [],
   "source": [
    "import numpy as np\n",
    "\n",
    "def remove_outliers(df, columns):\n",
    "    for col in columns:\n",
    "        Q1 = df[col].quantile(0.25)\n",
    "        Q3 = df[col].quantile(0.75)\n",
    "        IQR = Q3 - Q1\n",
    "\n",
    "        lower_bound = Q1 - 1.5 * IQR\n",
    "        upper_bound = Q3 + 1.5 * IQR\n",
    "\n",
    "\n",
    "        df = df[(df[col] >= lower_bound) & (df[col] <= upper_bound)]\n",
    "    \n",
    "    return df\n",
    "\n",
    "\n",
    "df_cleaned = remove_outliers(df, num_cols)\n"
   ]
  },
  {
   "cell_type": "code",
   "execution_count": 40,
   "id": "ba7c9246-5c7a-4089-aadf-723e194d4716",
   "metadata": {},
   "outputs": [
    {
     "name": "stdout",
     "output_type": "stream",
     "text": [
      "Original dataset shape: (21613, 37)\n",
      "Dataset shape after outlier removal: (15102, 37)\n"
     ]
    }
   ],
   "source": [
    "print(f\"Original dataset shape: {df.shape}\")\n",
    "print(f\"Dataset shape after outlier removal: {df_cleaned.shape}\")"
   ]
  },
  {
   "cell_type": "code",
   "execution_count": 41,
   "id": "b61b59f0-82c1-4971-92cb-d918923a625f",
   "metadata": {},
   "outputs": [
    {
     "data": {
      "image/png": "[encoded data removed]",
      "text/plain": [
       "<Figure size 800x400 with 1 Axes>"
      ]
     },
     "metadata": {},
     "output_type": "display_data"
    }
   ],
   "source": [
    "import seaborn as sns\n",
    "import matplotlib.pyplot as plt\n",
    "\n",
    "feature = \"Flat Area (in Sqft)\" \n",
    "plt.figure(figsize=(8,4))\n",
    "sns.boxplot(data=df_cleaned, x=feature)\n",
    "plt.title(f\"Boxplot of {feature} After Outlier Removal\")\n",
    "plt.show()"
   ]
  },
  {
   "cell_type": "markdown",
   "id": "79db4227-3975-4edf-8f3f-d4b073d65066",
   "metadata": {},
   "source": [
    "# Train-Test Split"
   ]
  },
  {
   "cell_type": "code",
   "execution_count": 42,
   "id": "93ab3c6f-e2c0-4fe4-bd5d-13a5bce4656f",
   "metadata": {},
   "outputs": [
    {
     "name": "stdout",
     "output_type": "stream",
     "text": [
      "Feature set shape: (21613, 36)\n",
      "Target variable shape: (21613,)\n"
     ]
    }
   ],
   "source": [
    "from sklearn.model_selection import train_test_split\n",
    "\n",
    "target_col = \"Sale Price\"  \n",
    "X = df.drop(columns=[target_col])  \n",
    "y = df[target_col]  \n",
    "\n",
    "print(f\"Feature set shape: {X.shape}\")\n",
    "print(f\"Target variable shape: {y.shape}\")"
   ]
  },
  {
   "cell_type": "code",
   "execution_count": 43,
   "id": "b27c93bb-a826-4277-b437-597eca969d72",
   "metadata": {},
   "outputs": [
    {
     "name": "stdout",
     "output_type": "stream",
     "text": [
      "Training set shape: (17290, 36), (17290,)\n",
      "Testing set shape: (4323, 36), (4323,)\n"
     ]
    }
   ],
   "source": [
    "X_train, X_test, y_train, y_test = train_test_split(X, y, test_size=0.2, random_state=42)\n",
    "\n",
    "print(f\"Training set shape: {X_train.shape}, {y_train.shape}\")\n",
    "print(f\"Testing set shape: {X_test.shape}, {y_test.shape}\")"
   ]
  },
  {
   "cell_type": "code",
   "execution_count": 46,
   "id": "9dc22b16-587a-4a2c-83d2-b87905ec9ab5",
   "metadata": {},
   "outputs": [
    {
     "name": "stdout",
     "output_type": "stream",
     "text": [
      "Training set mean: -0.01, Testing set mean: 0.03\n"
     ]
    }
   ],
   "source": [
    "print(f\"Training set mean: {y_train.mean():.2f}, Testing set mean: {y_test.mean():.2f}\")"
   ]
  }
 ],
 "metadata": {
  "kernelspec": {
   "display_name": "Python 3 (ipykernel)",
   "language": "python",
   "name": "python3"
  },
  "language_info": {
   "codemirror_mode": {
    "name": "ipython",
    "version": 3
   },
   "file_extension": ".py",
   "mimetype": "text/x-python",
   "name": "python",
   "nbconvert_exporter": "python",
   "pygments_lexer": "ipython3",
   "version": "3.13.2"
  }
 },
 "nbformat": 4,
 "nbformat_minor": 5
}
